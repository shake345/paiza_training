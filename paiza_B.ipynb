{
  "nbformat": 4,
  "nbformat_minor": 0,
  "metadata": {
    "colab": {
      "provenance": [],
      "authorship_tag": "ABX9TyOLVe+OSxCAm0ndzdsEwk17",
      "include_colab_link": true
    },
    "kernelspec": {
      "name": "python3",
      "display_name": "Python 3"
    },
    "language_info": {
      "name": "python"
    }
  },
  "cells": [
    {
      "cell_type": "markdown",
      "metadata": {
        "id": "view-in-github",
        "colab_type": "text"
      },
      "source": [
        "<a href=\"https://colab.research.google.com/github/shake345/paiza_training/blob/main/paiza_B.ipynb\" target=\"_parent\"><img src=\"https://colab.research.google.com/assets/colab-badge.svg\" alt=\"Open In Colab\"/></a>"
      ]
    },
    {
      "cell_type": "code",
      "execution_count": null,
      "metadata": {
        "collapsed": true,
        "id": "A8BVgZXgn7EC"
      },
      "outputs": [],
      "source": [
        "##ビンゴゲーム\n",
        "\n",
        "# N行N列のビンゴ、K回数字を引く\n",
        "N,K = map(int, input().split())\n",
        "grid = []\n",
        "\n",
        "# ビンゴの行列に入る数字をgridに格納\n",
        "for i in range(N):\n",
        "    b = list(input().split())\n",
        "    grid.append(b)\n",
        "# 引いた数字をansに格納\n",
        "ans = list(map(int, input().split()))\n",
        "\n",
        "# ansの数字とgridの数字が一致するものがあればTに変換\n",
        "for index_i,i in enumerate(grid):\n",
        "    for index_j,j in enumerate(i):\n",
        "        for num in ans:\n",
        "            if num == int(j):\n",
        "                grid[index_i][index_j] = 'T'\n",
        "\n",
        "# 中央を求めて、0もTに変換する\n",
        "d = N//2+1\n",
        "grid[d-1][d-1] = 'T'\n",
        "\n",
        "count = 0\n",
        "\n",
        "# 各行が全てTの場合はカウントを1追加\n",
        "for i in range(N):\n",
        "    if all(cell == 'T' for cell in grid[i]):\n",
        "        count += 1\n",
        "# 各列が全てTの場合はカウントを1追加\n",
        "for j in range(N):\n",
        "    if all(grid[i][j] == 'T' for i in range(N)):\n",
        "        count += 1\n",
        "# 左上から右下にかけて斜めの列全てTの場合はカウントを1追加\n",
        "if all(grid[i][i] == 'T' for i in range(N)):\n",
        "    count += 1\n",
        "# 右上から左下にかけて斜めの列全てTの場合はカウントを1追加\n",
        "if all(grid[i][N-1-i] == 'T' for i in range(N)):\n",
        "    count += 1\n",
        "\n",
        "print(count)"
      ]
    },
    {
      "cell_type": "code",
      "source": [
        "# 最安値の買い物\n",
        "\n",
        "# N店舗のK個の商品を比較\n",
        "N,K = map(int, input().split())\n",
        "count = 0\n",
        "grid = []\n",
        "\n",
        "# 店舗ごとの商品別値段を入力し、gridに格納\n",
        "for i in range(N):\n",
        "    p = list(map(int, input().split()))\n",
        "    grid.append(p)\n",
        "\n",
        "# 列ごとの最小値を抜き出し、smallestとしてリストに格納\n",
        "smallest_list = []\n",
        "for j in range(K):\n",
        "    smallest = min(grid[i][j] for i in range(N))\n",
        "    smallest_list.append(smallest)\n",
        "\n",
        "# 行ごとのフラグを用意。デフォルトはFALSE。\n",
        "# 列ごとの最小値がどこの行に存在するか確認。フラグがFalseかつセルに最小値を含む場合は、フラグをTrueにしてカウントを増やす\n",
        "i_flags = [False] * N\n",
        "for j in range(K):\n",
        "    smallest_price = smallest_list[j]\n",
        "    for i in range(N):\n",
        "        if not i_flags[i] and grid[i][j] == smallest_price:\n",
        "            count += 1\n",
        "            i_flags[i] = True\n",
        "            break\n",
        "\n",
        "print(count)"
      ],
      "metadata": {
        "id": "PR-dJbPbseSC"
      },
      "execution_count": null,
      "outputs": []
    },
    {
      "cell_type": "code",
      "source": [],
      "metadata": {
        "id": "AadoZ9losi6C"
      },
      "execution_count": null,
      "outputs": []
    }
  ]
}