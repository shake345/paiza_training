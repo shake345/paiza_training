{
  "nbformat": 4,
  "nbformat_minor": 0,
  "metadata": {
    "colab": {
      "provenance": [],
      "authorship_tag": "ABX9TyOBlDiqXxJDoCI4qXjR5WZJ",
      "include_colab_link": true
    },
    "kernelspec": {
      "name": "python3",
      "display_name": "Python 3"
    },
    "language_info": {
      "name": "python"
    }
  },
  "cells": [
    {
      "cell_type": "markdown",
      "metadata": {
        "id": "view-in-github",
        "colab_type": "text"
      },
      "source": [
        "<a href=\"https://colab.research.google.com/github/shake345/paiza_training/blob/main/paiza_D.ipynb\" target=\"_parent\"><img src=\"https://colab.research.google.com/assets/colab-badge.svg\" alt=\"Open In Colab\"/></a>"
      ]
    },
    {
      "cell_type": "code",
      "execution_count": null,
      "metadata": {
        "id": "5taMXpZicixO"
      },
      "outputs": [],
      "source": [
        "N,M = map(int,input().split())\n",
        "li = []\n",
        "# スペース区切りの数字をリストで格納する\n",
        "li = [int(x) for x in input().split()]\n",
        "print(li[M-1])"
      ]
    }
  ]
}